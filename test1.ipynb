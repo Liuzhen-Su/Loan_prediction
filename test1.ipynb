{
 "cells": [
  {
   "cell_type": "code",
   "execution_count": 1,
   "metadata": {},
   "outputs": [],
   "source": [
    "import pandas as pd\n",
    "import numpy as np\n",
    "import matplotlib.pyplot as plt\n",
    "import seaborn as sns\n",
    "import csv\n",
    "import matplotlib\n",
    "import matplotlib.pyplot as plt"
   ]
  },
  {
   "cell_type": "code",
   "execution_count": 2,
   "metadata": {},
   "outputs": [
    {
     "name": "stdout",
     "output_type": "stream",
     "text": [
      "<class '_csv.reader'>\n",
      "['2011-01-04 15:00:00', 'szse.002027', '23.044797552642', '23.258835920003996', '22.83075918528', '23.18748979755', '27388.0', '17724748.0', '']\n"
     ]
    }
   ],
   "source": [
    "#data = pd.read_csv(\"hangqing_30.csv\")\n",
    "#data.shape\n",
    "data = []\n",
    "with open('hangqing_30.csv', 'r') as f:\n",
    "    reader = csv.reader(f)\n",
    "    print(type(reader))    \n",
    "    for row in reader:\n",
    "        data.append(row[1:])\n",
    "data = data[1:]\n",
    "print(data[0])"
   ]
  },
  {
   "cell_type": "code",
   "execution_count": 3,
   "metadata": {},
   "outputs": [],
   "source": [
    "# All 30 stocks\n",
    "name_list = ['szse.002027', 'szse.300014', 'szse.002475', 'szse.000636', 'szse.002449', 'sse.600183', 'szse.000049', \n",
    "             'szse.002138', 'szse.300115', 'sse.600325', 'szse.000069', 'sse.600383', 'sse.600048', 'szse.001914', \n",
    "             'sse.601318', 'sse.600323', 'szse.002152', 'szse.000921', 'szse.002035', 'szse.000651', 'szse.002233', \n",
    "             'szse.002060', 'szse.002352', 'szse.002511', 'szse.002303', 'szse.002461', 'sse.600872', 'sse.600332', \n",
    "             'szse.000513', 'szse.000028']\n",
    "# information item name\n",
    "item_list = ['time', 'open', 'hith', 'low', 'close', 'volume', 'amount']\n",
    "month_maxday_ping = [31,28,31,30,31,30,31,31,30,31,30,31]  # 平年\n",
    "month_maxday_run = [31,29,31,30,31,30,31,31,30,31,30,31]   # 闰年"
   ]
  },
  {
   "cell_type": "code",
   "execution_count": 4,
   "metadata": {},
   "outputs": [],
   "source": [
    "# 计算xxxx年xx月xx日对应是星期几\n",
    "def CaculateWeek(year,month,day):\n",
    "    year = int(year)\n",
    "    year = year - int(year / 100) * 100    \n",
    "    century = int(year/100)\n",
    "    month = int(month)\n",
    "    if month == 1 or month == 2:\n",
    "        month = month + 12\n",
    "        if year == 0:\n",
    "            year = 99\n",
    "            century = century - 1\n",
    "        else:\n",
    "            year = year - 1\n",
    "    day =int(day)\n",
    "    week = year + int(year/4) + int(century/4) - 2 * century + int(26 * (month + 1)/10) + day - 1\n",
    "    if week < 0:\n",
    "        weekDay = (week % 7 + 7) % 7\n",
    "    else:\n",
    "        weekDay = week % 7\n",
    "    return weekDay\n",
    "# print(CaculateWeek(2020,11,1))  # 星期天是0"
   ]
  },
  {
   "cell_type": "code",
   "execution_count": 5,
   "metadata": {},
   "outputs": [],
   "source": [
    "# 取具体某天的所有公司的数据\n",
    "def Get_Onedaydata(data_all, time):\n",
    "    data_oneday = []\n",
    "    for i in range(len(data_all)):\n",
    "        # print(rows)\n",
    "        if (time in data_all[i][0]):\n",
    "            data_oneday.append(data_all[i])\n",
    "    return data_oneday"
   ]
  },
  {
   "cell_type": "code",
   "execution_count": 6,
   "metadata": {},
   "outputs": [],
   "source": [
    "# 计算上周增长最快的十支股票\n",
    "def takeSecond(elem):\n",
    "    return elem[1]\n",
    "def Calculate_Growth(last_data, current_data):\n",
    "    growth = []\n",
    "    for name in name_list:\n",
    "        for item in last_data:\n",
    "            if (name in item[1]):\n",
    "                last_close = float(item[5])\n",
    "        for item in current_data:\n",
    "            if (name in item[1]):\n",
    "                current_close = float(item[5])  \n",
    "        growth_name = (current_close-last_close)/last_close\n",
    "        growth.append((name,growth_name))\n",
    "    growth.sort(key=takeSecond,reverse=True)\n",
    "    return growth"
   ]
  },
  {
   "cell_type": "code",
   "execution_count": 7,
   "metadata": {},
   "outputs": [],
   "source": [
    "# 计算上周的收益\n",
    "def Calculate_Income(last_data, current_data, selection_last):\n",
    "    income_rate = 0\n",
    "    income_rate_list = []\n",
    "    for select_i in selection_last:\n",
    "        for item in last_data:\n",
    "            if (select_i[0] in item[1]):\n",
    "                last_close = float(item[5])\n",
    "        for item in current_data:\n",
    "            if (select_i[0] in item[1]):\n",
    "                current_close = float(item[5])\n",
    "        income_select_i = (current_close-last_close)/last_close*10\n",
    "        income_rate_list.append(income_select_i)\n",
    "        income_rate = income_rate + income_select_i\n",
    "    return income_rate, income_rate_list"
   ]
  },
  {
   "cell_type": "code",
   "execution_count": 8,
   "metadata": {},
   "outputs": [
    {
     "name": "stdout",
     "output_type": "stream",
     "text": [
      "[-0.8539349811760303, 2.621922926823902, -2.8965790633480983, -2.882330098271388, -8.260629059491311, -4.421220060316106, -2.8019075936157996, 15.982681752485624, 0.9353378156414759, 0.7867789554031175, -7.121541784699905, -4.976870467901756, -3.192356268375932, -2.481265748144713, -5.762686039796713, 1.616957851834366, -4.673499327335253, 7.975885756552092, 0.6082050301115427, 3.027528509632208, 2.9304107931221037, 0.7599457921404329, 0.7328216719087159, -1.2012705006083135, -3.2717368665260045, 5.917765071140151, -0.34875260879032083, -1.4028920515481056, -0.05995496541463152, 0.03288074497298643, 2.1327380088256063, -4.459388907600053, -5.106173657379792, 0.510439136282862, 4.074403456646702, 6.353464724476333, -3.8252142547030283, 5.1840413775541, -2.7352127273822635, -6.398070992007535, 5.985017764354639, 1.073401883127354, 0.9023868273711955, 4.296405214713687, 1.120809100175295, 4.364150104396488, 3.1353209480949764, -1.0049615726748258, 0.4405660001121132, 2.7534072931424776, 0.46603232735547107, -1.9045188775865696, -4.173801249756737, 3.6283921080370356, 3.374440726323959, 2.8416540849057106, -4.695785207184498, -4.361323278891535, -10.91528835000734, 3.094668996285935, 1.1933978047778715, 1.3775933220665992, -2.543611736498347, 3.0343485923945126, -0.038127720976138285, -0.5699054727891837, 5.098947538911468, 6.641033795510353, -4.744652160519951, 5.168339652275737, 3.236670287846342, -3.270123379162013, -0.9684024044638636, 0.3124275879588036, -4.756948114204324, 2.642042454296052, 3.88125711888064, 3.3843478490883268, 1.4926787678846458, -3.0770747805104803, 2.905916209631892, 3.348523490885218, 0.8711597535799843, 5.521046057235933, -2.5618145232194496, 1.6994455796034358, 0.21460094553313533, 0.20118519466029083, 5.752015911310865, 4.326193891296784, 60.46062804345975, -13.343927982290806, -2.0796505240153786, 0.699889031174411, -2.8164970720196965, -2.7639042658651065, -2.509486207537594, 0.28243886498675314, 0.24205927824612794, -7.481403763205348, 1.854093752370655, 6.03784964336293, -2.123974123650945, 3.6080239829981933, 1.216619479513812, -1.250590756341771, 1.2012984486487497, -2.4942430321136437, -2.733373550926658, 2.4025755037554104, 0.9448545789995153, -1.1173986407384247, 3.185106751488194, -0.6392486610640307, -0.5824348681597837, -0.9922822054993153, 1.08199047686534, -2.9777874141635197, 3.1944284275441888, 1.4066049528165272, -1.5569752282966354, 1.5178789408111486, -0.8425571492952051, -0.464267495116602, -1.5741375863731362, -0.1072158180055582, -4.352230250086196, 4.827246423154844, 1.700509795414649, 3.196119998000965, 0.4835687420496489, 8.686421895911252, 0.6109176971675109, 1.1391787794289931, -2.070976642137218, -2.045304662568542, -8.83710540358515, 5.727695630144002, 0.33280851354048, 2.846678022407658, -2.1014026611129553, -4.468999229626078, 0.06985526906372336, -2.229491214161372, -2.879849215646354, -5.2552856477849295, 4.801171935179992, 1.090471743679841, -0.009768260872844742, -0.6358470692621166, -0.12020451816107457, -0.7229436214709308, -5.189415311331021, -3.187082825904672, 2.1867008043510223, 7.174349105105563, -1.552401478574771, -0.4269200655918961, -6.3786503383560476, 5.178696328152189, -4.1457409760929975, 2.7694227599592534, -2.635010534151001, -4.677343063949736, -0.182525657536446, 0.8526958052855034, -5.69699819982556, 5.798084917914835, -6.064523133269149, 5.732561960695506, 1.1915128561519974, 4.703771855194719, -4.872401076735753, 3.1841950041927003, -2.3372312026177706, 1.2718047238230898, -4.835781417154756, 0.4465779398479649, -0.6438685502481694, 4.3718064428199686, 0.7212643369648905, 4.224645747286123, 4.190421315271254, 8.707241267067499, -1.6370856398106617, 1.2589770099059383, -1.8183861383873035, -2.555692685809195, 2.9785277368625955, -5.592538580305576, 0.882483336355358, -3.0016822303162383, 0.09877937380211484, -0.4174306904626489, -1.4380182726103166, -0.9110750341715063, 5.1040675722121875, 6.640512511268059, -4.510156437865228, 0.25441648132084305, -2.8516072641755397, 1.8213587687949935, -2.5957792607684356, 2.905790591033316, 3.177823474877063, 5.451022586040189, 1.8969826441070086, 4.749051226688686, -1.643268845802424, -0.2712182507694162, -2.4261787201908214, 3.8779458320571756, -2.6964802844247955, 1.679082541822329, -0.9065847001419888, -3.061152185678811, 1.8139998409186158, -4.760984449365578, 3.1638941709415045, 5.491239905399068, -3.2231382780737334, 3.0838941781359717, 1.9864150463294648, 2.016284737518649, 0.32636008737349204, -8.324407074315982, 8.2266898837819, 5.6889400493407285, 6.866374174096963, -4.70167821974049, -3.488346601444437, -5.536697239257881, -4.193513932106984, 4.564265183586157, -0.30512957822019715, 2.002996823076883, -0.5605698857735998, 2.6541774795519197, -2.9053837433111616, -1.567685567108242, 8.223115817860437, -0.5871274686085206, -0.3409119621977451, 4.621585755687367, -2.037404898472306, 3.948831273613342, 2.4126236507793086, -5.340218841730235, -3.6638165479822677, 6.581649539323205, -1.3854721807228831, 0.5643116767686087, -1.3457434090116465, -0.4617531331515009, -6.156110782063545, -2.1418623082798636, -0.5038641121463051, -3.8315730871308316, 7.088411936480322, -2.6631152141909644, -0.7864348117169474]\n"
     ]
    }
   ],
   "source": [
    "# 主程序\n",
    "num = 0\n",
    "income_allday = []\n",
    "for y in range(2011,2021):\n",
    "    if (y == 2020):\n",
    "        month_max = 10\n",
    "    else:\n",
    "        month_max = 12\n",
    "    for m in range(1,month_max+1):\n",
    "        if (y%4 == 0):\n",
    "            day_max = month_maxday_run[m-1]\n",
    "        else:\n",
    "            day_max = month_maxday_ping[m-1]\n",
    "        for d in range(1,day_max+1):\n",
    "            if (CaculateWeek(y,m,d) == 1):\n",
    "                time = str(y)+'-'+str(m+100)[1:3]+'-'+str(d+100)[1:3]   # 日期\n",
    "                current_data_oneday = Get_Onedaydata(data, time)        # 拿当前日期的数据\n",
    "                if (len(current_data_oneday)==30):\n",
    "                    # 初始化\n",
    "                    if (num == 0):\n",
    "                        last_data_oneday = current_data_oneday\n",
    "                        num = num+1\n",
    "                    elif (num == 1):\n",
    "                        growth = Calculate_Growth(last_data_oneday,current_data_oneday) \n",
    "                        selection_last = growth[0:9]\n",
    "                        last_data_oneday = current_data_oneday\n",
    "                        num = num+1\n",
    "                    # 从第三周开始计算收益率\n",
    "                    else:\n",
    "                        # 计算并选择上周增长最快的股票\n",
    "                        growth = Calculate_Growth(last_data_oneday,current_data_oneday) \n",
    "                        selection_current = growth[0:9]\n",
    "                    \n",
    "                        # 计算上周的收益\n",
    "                        income_rate, income_rate_list = Calculate_Income(last_data_oneday,\n",
    "                                                                         current_data_oneday, selection_last)\n",
    "                        income_allday.append(income_rate)\n",
    "                        \n",
    "                        # 重置\n",
    "                        selection_last = selection_current\n",
    "                        last_data_oneday = current_data_oneday\n",
    "                        num = num+1\n",
    "                    \n",
    "print(income_allday)      "
   ]
  },
  {
   "cell_type": "code",
   "execution_count": 9,
   "metadata": {},
   "outputs": [
    {
     "data": {
      "text/plain": [
       "[<matplotlib.lines.Line2D at 0x204deafbb38>]"
      ]
     },
     "execution_count": 9,
     "metadata": {},
     "output_type": "execute_result"
    },
    {
     "data": {
      "image/png": "[encoded data removed]",
      "text/plain": [
       "<Figure size 432x288 with 1 Axes>"
      ]
     },
     "metadata": {
      "needs_background": "light"
     },
     "output_type": "display_data"
    }
   ],
   "source": [
    "plt.plot(income_allday)"
   ]
  },
  {
   "cell_type": "code",
   "execution_count": null,
   "metadata": {},
   "outputs": [],
   "source": []
  }
 ],
 "metadata": {
  "kernelspec": {
   "display_name": "Python 3",
   "language": "python",
   "name": "python3"
  },
  "language_info": {
   "codemirror_mode": {
    "name": "ipython",
    "version": 3
   },
   "file_extension": ".py",
   "mimetype": "text/x-python",
   "name": "python",
   "nbconvert_exporter": "python",
   "pygments_lexer": "ipython3",
   "version": "3.7.3"
  }
 },
 "nbformat": 4,
 "nbformat_minor": 2
}
