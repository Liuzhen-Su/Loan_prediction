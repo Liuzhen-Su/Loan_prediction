{
 "cells": [
  {
   "cell_type": "code",
   "execution_count": 1,
   "metadata": {},
   "outputs": [],
   "source": [
    "import pandas as pd\n",
    "import numpy as np\n",
    "import matplotlib.pyplot as plt\n",
    "import seaborn as sns\n",
    "import csv\n",
    "import matplotlib\n",
    "import matplotlib.pyplot as plt"
   ]
  },
  {
   "cell_type": "code",
   "execution_count": 2,
   "metadata": {},
   "outputs": [
    {
     "name": "stdout",
     "output_type": "stream",
     "text": [
      "['2011-01-04 15:00:00', 'szse.002027', '23.044797552642', '23.258835920003996', '22.83075918528', '23.18748979755', '27388.0', '17724748.0', '']\n",
      "['2011-01-04 15:00:00', 'szse.399999', '1005.5793122291152', '1030.7530333280674', '990.5932393978313', '1017.9446626702138', '3234194.4721439756', '4583346050.278955', '']\n"
     ]
    }
   ],
   "source": [
    "#data = pd.read_csv(\"hangqing_30.csv\")\n",
    "#data.shape\n",
    "data = []\n",
    "with open('hangqing_30.csv', 'r') as f:\n",
    "    reader = csv.reader(f)   \n",
    "    for row in reader:\n",
    "        data.append(row[1:])\n",
    "data = data[1:]\n",
    "print(data[0])\n",
    "\n",
    "data_wan = []\n",
    "with open('hangqing_all.csv', 'r') as f:\n",
    "    reader = csv.reader(f) \n",
    "    for row in reader:\n",
    "        data_wan.append(row[1:])\n",
    "data_wan = data_wan[1:]\n",
    "print(data_wan[0])"
   ]
  },
  {
   "cell_type": "code",
   "execution_count": 3,
   "metadata": {},
   "outputs": [],
   "source": [
    "# All 30 stocks\n",
    "name_list = ['szse.002027', 'szse.300014', 'szse.002475', 'szse.000636', 'szse.002449', 'sse.600183', 'szse.000049', \n",
    "             'szse.002138', 'szse.300115', 'sse.600325', 'szse.000069', 'sse.600383', 'sse.600048', 'szse.001914', \n",
    "             'sse.601318', 'sse.600323', 'szse.002152', 'szse.000921', 'szse.002035', 'szse.000651', 'szse.002233', \n",
    "             'szse.002060', 'szse.002352', 'szse.002511', 'szse.002303', 'szse.002461', 'sse.600872', 'sse.600332', \n",
    "             'szse.000513', 'szse.000028']\n",
    "# information item name\n",
    "item_list = ['time', 'open', 'hith', 'low', 'close', 'volume', 'amount']\n",
    "month_maxday_ping = [31,28,31,30,31,30,31,31,30,31,30,31]  # 平年\n",
    "month_maxday_run = [31,29,31,30,31,30,31,31,30,31,30,31]   # 闰年"
   ]
  },
  {
   "cell_type": "code",
   "execution_count": 4,
   "metadata": {},
   "outputs": [],
   "source": [
    "# 计算xxxx年xx月xx日对应是星期几\n",
    "def CaculateWeek(year,month,day):\n",
    "    year = int(year)\n",
    "    year = year - int(year / 100) * 100    \n",
    "    century = int(year/100)\n",
    "    month = int(month)\n",
    "    if month == 1 or month == 2:\n",
    "        month = month + 12\n",
    "        if year == 0:\n",
    "            year = 99\n",
    "            century = century - 1\n",
    "        else:\n",
    "            year = year - 1\n",
    "    day =int(day)\n",
    "    week = year + int(year/4) + int(century/4) - 2 * century + int(26 * (month + 1)/10) + day - 1\n",
    "    if week < 0:\n",
    "        weekDay = (week % 7 + 7) % 7\n",
    "    else:\n",
    "        weekDay = week % 7\n",
    "    return weekDay\n",
    "# print(CaculateWeek(2020,11,1))  # 星期天是0"
   ]
  },
  {
   "cell_type": "code",
   "execution_count": 5,
   "metadata": {},
   "outputs": [],
   "source": [
    "# 取具体某天的所有公司的数据\n",
    "def Get_Onedaydata(data_all, time):\n",
    "    data_oneday = []\n",
    "    for i in range(len(data_all)):\n",
    "        # print(rows)\n",
    "        if (time in data_all[i][0]):\n",
    "            data_oneday.append(data_all[i])\n",
    "    return data_oneday"
   ]
  },
  {
   "cell_type": "code",
   "execution_count": 6,
   "metadata": {},
   "outputs": [],
   "source": [
    "# 计算上周增长最快的十支股票\n",
    "def takeSecond(elem):\n",
    "    return elem[1]\n",
    "def Calculate_Growth(last_data, current_data):\n",
    "    growth = []\n",
    "    for name in name_list:\n",
    "        for item in last_data:\n",
    "            if (name in item[1]):\n",
    "                last_close = float(item[5])\n",
    "        for item in current_data:\n",
    "            if (name in item[1]):\n",
    "                current_close = float(item[5])  \n",
    "        growth_name = (current_close-last_close)/last_close\n",
    "        growth.append((name,growth_name))\n",
    "    growth.sort(key=takeSecond,reverse=True)\n",
    "    return growth"
   ]
  },
  {
   "cell_type": "code",
   "execution_count": 7,
   "metadata": {},
   "outputs": [],
   "source": [
    "# 计算上周的收益\n",
    "def Calculate_Income(last_data, current_data, selection_last):\n",
    "    income_rate = 0\n",
    "    income_rate_list = []\n",
    "    for select_i in selection_last:\n",
    "        for item in last_data:\n",
    "            if (select_i[0] in item[1]):\n",
    "                last_close = float(item[5])\n",
    "        for item in current_data:\n",
    "            if (select_i[0] in item[1]):\n",
    "                current_close = float(item[5])\n",
    "        income_select_i = (current_close*0.99975-last_close*1.00025)/last_close*10\n",
    "        income_rate_list.append(income_select_i)\n",
    "        income_rate = income_rate + income_select_i\n",
    "    return income_rate, income_rate_list"
   ]
  },
  {
   "cell_type": "code",
   "execution_count": 8,
   "metadata": {},
   "outputs": [],
   "source": [
    "def Calculate_rate_of_BigWan(time,time_last):\n",
    "    for data_wan_i in data_wan:\n",
    "        if (time in data_wan_i[0]):\n",
    "            close_time = float(data_wan_i[5])\n",
    "        if (time_last in data_wan_i[0]):\n",
    "            close_time_last = float(data_wan_i[5])\n",
    "    rate_BigWan = (close_time-close_time_last)/close_time_last*100\n",
    "    return rate_BigWan"
   ]
  },
  {
   "cell_type": "code",
   "execution_count": 9,
   "metadata": {},
   "outputs": [
    {
     "name": "stdout",
     "output_type": "stream",
     "text": [
      "261\n",
      "261\n"
     ]
    }
   ],
   "source": [
    "# 主程序\n",
    "num = 0\n",
    "rate_BigWan_all = []\n",
    "income_allweek = []\n",
    "for y in range(2011,2021):\n",
    "    if (y == 2020):\n",
    "        month_max = 10\n",
    "    else:\n",
    "        month_max = 12\n",
    "    for m in range(1,month_max+1):\n",
    "        if (y%4 == 0):\n",
    "            day_max = month_maxday_run[m-1]\n",
    "        else:\n",
    "            day_max = month_maxday_ping[m-1]\n",
    "        for d in range(1,day_max+1):\n",
    "            if (CaculateWeek(y,m,d) == 1):\n",
    "                time = str(y)+'-'+str(m+100)[1:3]+'-'+str(d+100)[1:3]   # 日期\n",
    "                current_data_oneday = Get_Onedaydata(data, time)        # 拿当前日期的数据\n",
    "                if (len(current_data_oneday)==30):\n",
    "                    # 初始化\n",
    "                    if (num == 0):\n",
    "                        last_data_oneday = current_data_oneday\n",
    "                        num = num+1\n",
    "                    elif (num == 1):\n",
    "                        growth = Calculate_Growth(last_data_oneday,current_data_oneday) \n",
    "                        selection_last = growth[0:10]\n",
    "                        last_data_oneday = current_data_oneday\n",
    "                        time_last = time\n",
    "                        num = num+1\n",
    "                    # 从第三周开始计算收益率\n",
    "                    else:\n",
    "                        # 计算并选择上周增长最快的股票\n",
    "                        growth = Calculate_Growth(last_data_oneday,current_data_oneday) \n",
    "                        selection_current = growth[0:10]\n",
    "                    \n",
    "                        # 计算上周的收益\n",
    "                        income_rate, income_rate_list = Calculate_Income(last_data_oneday,\n",
    "                                                                         current_data_oneday, selection_last)\n",
    "                        \n",
    "                        income_allweek.append(income_rate)\n",
    "                        \n",
    "                        # 计算大湾区的价格变动指数\n",
    "                        rate_BigWan = Calculate_rate_of_BigWan(time,time_last)\n",
    "                        rate_BigWan_all.append(rate_BigWan)\n",
    "                        \n",
    "                        # 迭代\n",
    "                        selection_last = selection_current\n",
    "                        last_data_oneday = current_data_oneday\n",
    "                        time_last = time\n",
    "                        num = num+1\n",
    "                        # print(selection_last)\n",
    "                                      \n",
    "# print(income_allweek)     \n",
    "# print(rate_BigWan_all)\n",
    "print(len(income_allweek))\n",
    "print(len(rate_BigWan_all))"
   ]
  },
  {
   "cell_type": "code",
   "execution_count": 10,
   "metadata": {},
   "outputs": [
    {
     "name": "stdout",
     "output_type": "stream",
     "text": [
      "投资发生周数：261\n",
      "投资收益率高于大湾区行情指数的周数：112\n",
      "投资收益率低于大湾区行情指数的周数：149\n"
     ]
    },
    {
     "data": {
      "text/plain": [
       "[<matplotlib.lines.Line2D at 0x222c90f70b8>]"
      ]
     },
     "execution_count": 10,
     "metadata": {},
     "output_type": "execute_result"
    },
    {
     "data": {
      "image/png": "[encoded data removed]",
      "text/plain": [
       "<Figure size 432x288 with 1 Axes>"
      ]
     },
     "metadata": {
      "needs_background": "light"
     },
     "output_type": "display_data"
    }
   ],
   "source": [
    "more = 0\n",
    "less=0 \n",
    "for i in range(len(income_allweek)):\n",
    "    if (income_allweek[i] >= rate_BigWan_all[i]):\n",
    "        more=more+1\n",
    "    else:\n",
    "        less=less+1\n",
    "print(\"投资发生周数：\"+str(num-2))\n",
    "print(\"投资收益率高于大湾区行情指数的周数：\"+str(more))\n",
    "print(\"投资收益率低于大湾区行情指数的周数：\"+str(less))\n",
    "plt.plot(income_allweek)\n",
    "plt.plot(rate_BigWan_all)"
   ]
  },
  {
   "cell_type": "code",
   "execution_count": 13,
   "metadata": {},
   "outputs": [
    {
     "data": {
      "text/plain": [
       "[<matplotlib.lines.Line2D at 0x222ca217ef0>]"
      ]
     },
     "execution_count": 13,
     "metadata": {},
     "output_type": "execute_result"
    },
    {
     "data": {
      "image/png": "[encoded data removed]",
      "text/plain": [
       "<Figure size 432x288 with 1 Axes>"
      ]
     },
     "metadata": {
      "needs_background": "light"
     },
     "output_type": "display_data"
    }
   ],
   "source": [
    "money_all = []\n",
    "rate_all = []\n",
    "money =100\n",
    "rate=100\n",
    "for i in range(len(income_allweek)):\n",
    "    money = money*(1+income_allweek[i]*0.01)\n",
    "    rate = rate*(1+rate_BigWan_all[i]*0.01)\n",
    "    money_all.append(money)\n",
    "    rate_all.append(rate)\n",
    "plt.plot(money_all)\n",
    "plt.plot(rate_all)"
   ]
  },
  {
   "cell_type": "code",
   "execution_count": null,
   "metadata": {},
   "outputs": [],
   "source": []
  }
 ],
 "metadata": {
  "kernelspec": {
   "display_name": "Python 3",
   "language": "python",
   "name": "python3"
  },
  "language_info": {
   "codemirror_mode": {
    "name": "ipython",
    "version": 3
   },
   "file_extension": ".py",
   "mimetype": "text/x-python",
   "name": "python",
   "nbconvert_exporter": "python",
   "pygments_lexer": "ipython3",
   "version": "3.7.3"
  }
 },
 "nbformat": 4,
 "nbformat_minor": 2
}
